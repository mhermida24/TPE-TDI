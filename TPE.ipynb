{
  "cells": [
    {
      "cell_type": "code",
      "source": [
        "from os import path\n",
        "import gdown\n",
        "import matplotlib.pyplot as plt\n",
        "import pandas as pd\n",
        "import numpy as np\n",
        "import math\n",
        "import heapq\n",
        "from collections import defaultdict"
      ],
      "metadata": {
        "id": "bRVEqtllQJaq"
      },
      "execution_count": null,
      "outputs": []
    },
    {
      "cell_type": "markdown",
      "metadata": {
        "id": "in_WLZlO2M-r"
      },
      "source": [
        "# Parte 1"
      ]
    },
    {
      "cell_type": "markdown",
      "metadata": {
        "id": "cktw6PMa2M-s"
      },
      "source": [
        "Estadísticas para ingenieros que miran el cielo\n",
        "\n",
        "Dadas las señales de temperaturas diarias registradas durante cierto periodo en las tres ciudades (S1: Quito, S2: Melbourne, S3: Oslo), expresadas como valores enteros, en °C (grados centígrados):"
      ]
    },
    {
      "cell_type": "code",
      "execution_count": null,
      "metadata": {
        "id": "ZNO_AhtZ2M-s",
        "colab": {
          "base_uri": "https://localhost:8080/"
        },
        "outputId": "389c2892-c473-4c78-d789-ce7be7bd00e1"
      },
      "outputs": [
        {
          "output_type": "stream",
          "name": "stderr",
          "text": [
            "Downloading...\n",
            "From: https://drive.google.com/uc?id=1UavCUcs6I59xc05unC9xamawLbcdX-Gu\n",
            "To: /content/temperature_Quito_celsius.csv\n",
            "100%|██████████| 35.1k/35.1k [00:00<00:00, 18.8MB/s]\n",
            "Downloading...\n",
            "From: https://drive.google.com/uc?id=1ZRSdO3tHb_oA4TCieaunokS3srcqv2bq\n",
            "To: /content/temperature_Melbourne_celsius.csv\n",
            "100%|██████████| 35.1k/35.1k [00:00<00:00, 50.2MB/s]\n",
            "Downloading...\n",
            "From: https://drive.google.com/uc?id=1bNzPd0GEjmzpks7uWyGO6sZzkWkc15jk\n",
            "To: /content/temperature_Oslo_celsius.csv\n",
            "100%|██████████| 33.3k/33.3k [00:00<00:00, 48.2MB/s]\n"
          ]
        }
      ],
      "source": [
        "if not path.exists(\"temperature_Quito_celsius.csv\"):\n",
        "    file_id1 = '1UavCUcs6I59xc05unC9xamawLbcdX-Gu'\n",
        "    url1 = f'https://drive.google.com/uc?id={file_id1}'\n",
        "    gdown.download(url1, 'temperature_Quito_celsius.csv', quiet=False)\n",
        "\n",
        "if not path.exists(\"temperature_Melbourne_celsius.csv\"):\n",
        "    file_id2 = '1ZRSdO3tHb_oA4TCieaunokS3srcqv2bq'\n",
        "    url2 = f'https://drive.google.com/uc?id={file_id2}'\n",
        "    gdown.download(url2, 'temperature_Melbourne_celsius.csv', quiet=False)\n",
        "\n",
        "if not path.exists(\"temperature_Oslo_celsius.csv\"):\n",
        "    file_id3 = '1bNzPd0GEjmzpks7uWyGO6sZzkWkc15jk'\n",
        "    url3 = f'https://drive.google.com/uc?id={file_id3}'\n",
        "    gdown.download(url3, 'temperature_Oslo_celsius.csv', quiet=False)"
      ]
    },
    {
      "cell_type": "code",
      "execution_count": null,
      "metadata": {
        "id": "T8-5CQOI2M-t"
      },
      "outputs": [],
      "source": [
        "dataset_quito = pd.read_csv('temperature_Quito_celsius.csv')\n",
        "dataset_melbourne = pd.read_csv('temperature_Melbourne_celsius.csv')\n",
        "dataset_oslo = pd.read_csv('temperature_Oslo_celsius.csv')\n",
        "\n",
        "serie_quito = pd.read_csv('temperature_Quito_celsius.csv')['AvgTemperature']\n",
        "serie_melbourne = pd.read_csv('temperature_Melbourne_celsius.csv')['AvgTemperature']\n",
        "serie_oslo = pd.read_csv('temperature_Oslo_celsius.csv')['AvgTemperature']"
      ]
    },
    {
      "cell_type": "code",
      "source": [
        "conteo_quito_ordenado = serie_quito.value_counts().sort_index(ascending=False)\n",
        "print('Valores de temperatura de Quito')\n",
        "print(conteo_quito_ordenado)"
      ],
      "metadata": {
        "colab": {
          "base_uri": "https://localhost:8080/"
        },
        "id": "BwAv-zLg7D9L",
        "outputId": "5177208a-09fa-4188-8812-2421af6f2cc7"
      },
      "execution_count": null,
      "outputs": [
        {
          "output_type": "stream",
          "name": "stdout",
          "text": [
            "Valores de temperatura de Quito\n",
            "AvgTemperature\n",
            "19.0       4\n",
            "18.0      13\n",
            "17.0      66\n",
            "16.0     299\n",
            "15.0    1024\n",
            "14.0    1636\n",
            "13.0    1691\n",
            "12.0     854\n",
            "11.0     220\n",
            "10.0      35\n",
            "9.0        2\n",
            "Name: count, dtype: int64\n"
          ]
        }
      ]
    },
    {
      "cell_type": "code",
      "execution_count": null,
      "metadata": {
        "id": "Q-2En1Ht2M-u",
        "outputId": "3450af8d-f0f6-496d-f7d6-310b0661fab6",
        "colab": {
          "base_uri": "https://localhost:8080/"
        }
      },
      "outputs": [
        {
          "output_type": "stream",
          "name": "stdout",
          "text": [
            "Valores de temperatura de Melbourne\n",
            "AvgTemperature\n",
            " 31.0      2\n",
            " 30.0      4\n",
            " 29.0      8\n",
            " 28.0     12\n",
            " 27.0     29\n",
            " 26.0     80\n",
            " 25.0    147\n",
            " 24.0    247\n",
            " 23.0    352\n",
            " 22.0    407\n",
            " 21.0    467\n",
            " 20.0    464\n",
            " 19.0    468\n",
            " 18.0    396\n",
            " 17.0    395\n",
            " 16.0    416\n",
            " 15.0    385\n",
            " 14.0    419\n",
            " 13.0    399\n",
            " 12.0    343\n",
            " 11.0    204\n",
            " 10.0    139\n",
            " 9.0      36\n",
            " 8.0       7\n",
            " 7.0       1\n",
            "-73.0     17\n",
            "Name: count, dtype: int64\n"
          ]
        }
      ],
      "source": [
        "conteo_melbourne_ordenado = serie_melbourne.value_counts().sort_index(ascending=False)\n",
        "print('Valores de temperatura de Melbourne')\n",
        "print(conteo_melbourne_ordenado)"
      ]
    },
    {
      "cell_type": "code",
      "execution_count": null,
      "metadata": {
        "id": "kCM1s99q2M-u",
        "outputId": "c072ebdc-be78-4f21-aeed-73846c18c557",
        "colab": {
          "base_uri": "https://localhost:8080/"
        }
      },
      "outputs": [
        {
          "output_type": "stream",
          "name": "stdout",
          "text": [
            "Valores de temperatura de Oslo\n",
            "AvgTemperature\n",
            " 24.0      1\n",
            " 23.0      9\n",
            " 22.0     14\n",
            " 21.0     38\n",
            " 20.0     47\n",
            " 19.0     87\n",
            " 18.0    114\n",
            " 17.0    140\n",
            " 16.0    180\n",
            " 15.0    242\n",
            " 14.0    258\n",
            " 13.0    248\n",
            " 12.0    239\n",
            " 11.0    219\n",
            " 10.0    224\n",
            " 9.0     193\n",
            " 8.0     177\n",
            " 7.0     182\n",
            " 6.0     156\n",
            " 5.0     204\n",
            " 4.0     235\n",
            " 3.0     193\n",
            " 2.0     239\n",
            " 1.0     262\n",
            " 0.0     283\n",
            "-1.0     246\n",
            "-2.0     188\n",
            "-3.0     193\n",
            "-4.0     157\n",
            "-5.0     140\n",
            "-6.0     110\n",
            "-7.0      99\n",
            "-8.0      85\n",
            "-9.0      74\n",
            "-10.0     58\n",
            "-11.0     48\n",
            "-12.0     51\n",
            "-13.0     52\n",
            "-14.0     35\n",
            "-15.0     28\n",
            "-16.0     22\n",
            "-17.0     18\n",
            "-18.0     20\n",
            "-19.0      8\n",
            "-20.0      5\n",
            "-21.0      5\n",
            "-22.0      4\n",
            "-23.0      2\n",
            "-73.0     12\n",
            "Name: count, dtype: int64\n"
          ]
        }
      ],
      "source": [
        "conteo_oslo_ordenado = serie_oslo.value_counts().sort_index(ascending=False)\n",
        "print('Valores de temperatura de Oslo')\n",
        "print(conteo_oslo_ordenado)"
      ]
    },
    {
      "cell_type": "code",
      "execution_count": null,
      "metadata": {
        "id": "0HhKJTIi2M-u"
      },
      "outputs": [],
      "source": [
        "media_melbourne = serie_melbourne[serie_melbourne >= -25].mean()\n",
        "media_oslo = serie_oslo[serie_oslo >= -25].mean()\n",
        "serie_melbourne = serie_melbourne.apply(lambda x: media_melbourne if x < -25 else x)\n",
        "serie_oslo = serie_oslo.apply(lambda x: media_oslo if x < -25 else x)"
      ]
    },
    {
      "cell_type": "markdown",
      "metadata": {
        "id": "NHe7hVT-2M-u"
      },
      "source": [
        "## inciso 1\n",
        "Calcular la temperatura promedio y la desviación estándar para cada señal Si y analizar cómo se comportan estadísticamente."
      ]
    },
    {
      "cell_type": "code",
      "execution_count": null,
      "metadata": {
        "id": "F1McGL752M-v",
        "outputId": "d368406a-caa3-44b1-a865-ac3397cb0f4f",
        "colab": {
          "base_uri": "https://localhost:8080/"
        }
      },
      "outputs": [
        {
          "output_type": "stream",
          "name": "stdout",
          "text": [
            "Temperatura promedio Quito: 13.6035\n",
            "Desviación estándar Quito: 1.3017\n",
            "Temperatura promedio Melbourne: 17.7980\n",
            "Desviación estándar Melbourne: 4.2477\n",
            "Temperatura promedio Oslo: 4.770919067215363\n",
            "Desviación estándar Oslo: 8.7822\n"
          ]
        }
      ],
      "source": [
        "print(f'Temperatura promedio Quito: {serie_quito.mean():.4f}')\n",
        "print(f'Desviación estándar Quito: {serie_quito.std():.4f}')\n",
        "print(f'Temperatura promedio Melbourne: {media_melbourne:.4f}')\n",
        "print(f'Desviación estándar Melbourne: {serie_melbourne.std():.4f}')\n",
        "print(f'Temperatura promedio Oslo: {media_oslo}')\n",
        "print(f'Desviación estándar Oslo: {serie_oslo.std():.4f}')"
      ]
    },
    {
      "cell_type": "code",
      "source": [
        "import matplotlib.pyplot as plt\n",
        "plt.hist(serie_quito, bins=10, edgecolor='black', rwidth=1)\n",
        "plt.title('Distribución de Quito')\n",
        "plt.xlabel('Temperatura')\n",
        "plt.ylabel('Frecuencia')\n",
        "plt.show()"
      ],
      "metadata": {
        "colab": {
          "base_uri": "https://localhost:8080/",
          "height": 472
        },
        "id": "X_H1Np_c73WC",
        "outputId": "7f894d56-f0b4-4e80-9ff6-3d2212e4f23a"
      },
      "execution_count": null,
      "outputs": [
        {
          "output_type": "display_data",
          "data": {
            "text/plain": [
              "<Figure size 640x480 with 1 Axes>"
            ],
            "image/png": "[encoded data removed]"
          },
          "metadata": {}
        }
      ]
    },
    {
      "cell_type": "code",
      "source": [
        "plt.hist(serie_melbourne, bins=20, edgecolor='black', rwidth=1)\n",
        "plt.title('Distribución de Melbourne')\n",
        "plt.xlabel('Temperatura')\n",
        "plt.ylabel('Frecuencia')\n",
        "plt.show()"
      ],
      "metadata": {
        "colab": {
          "base_uri": "https://localhost:8080/",
          "height": 472
        },
        "id": "78W9M5n276qU",
        "outputId": "5c0c7e9d-c382-4136-e7f5-57deaf763364"
      },
      "execution_count": null,
      "outputs": [
        {
          "output_type": "display_data",
          "data": {
            "text/plain": [
              "<Figure size 640x480 with 1 Axes>"
            ],
            "image/png": "[encoded data removed]"
          },
          "metadata": {}
        }
      ]
    },
    {
      "cell_type": "code",
      "source": [
        "plt.hist(serie_oslo, bins=20, edgecolor='black', rwidth=1)\n",
        "plt.title('Distribución de Oslo')\n",
        "plt.xlabel('Temperatura')\n",
        "plt.ylabel('Frecuencia')\n",
        "plt.show()"
      ],
      "metadata": {
        "colab": {
          "base_uri": "https://localhost:8080/",
          "height": 472
        },
        "id": "4LrIb13Z77vQ",
        "outputId": "e11dbb8f-1313-4e3d-e219-671be995b617"
      },
      "execution_count": null,
      "outputs": [
        {
          "output_type": "display_data",
          "data": {
            "text/plain": [
              "<Figure size 640x480 with 1 Axes>"
            ],
            "image/png": "[encoded data removed]"
          },
          "metadata": {}
        }
      ]
    },
    {
      "cell_type": "markdown",
      "metadata": {
        "id": "q_CcfRKH2M-v"
      },
      "source": [
        "## inciso 2\n",
        "Calcular el factor de correlación cruzada entre cada par de señales. Discutir si existen correlaciones significativas o no (tratando de establecer, por ejemplo, si Melbourne podría estar prediciendo el clima de Quito, o de Oslo.. o si no tienen nada que ver)."
      ]
    },
    {
      "cell_type": "code",
      "execution_count": null,
      "metadata": {
        "id": "ZgzVTOxM2M-v",
        "outputId": "25786438-53c6-477e-a495-7b74f8e0e66c",
        "colab": {
          "base_uri": "https://localhost:8080/"
        }
      },
      "outputs": [
        {
          "output_type": "stream",
          "name": "stdout",
          "text": [
            "Correlación entre quito y melbourne: -0.0258\n",
            "Correlación entre quito y oslo: 0.0827\n",
            "Correlación entre melbourne y oslo: -0.7284\n"
          ]
        }
      ],
      "source": [
        "correlacion_quito_melbourne = serie_quito.corr(serie_melbourne)\n",
        "corr_quito_oslo =  serie_quito.corr(serie_oslo)\n",
        "corr_melbourne_oslo =  serie_melbourne.corr(serie_oslo)\n",
        "\n",
        "print(f\"Correlación entre quito y melbourne: {correlacion_quito_melbourne:.4f}\")\n",
        "print(f\"Correlación entre quito y oslo: {corr_quito_oslo:.4f}\")\n",
        "print(f\"Correlación entre melbourne y oslo: {corr_melbourne_oslo:.4f}\")"
      ]
    },
    {
      "cell_type": "code",
      "source": [
        "plt.scatter(serie_melbourne, serie_oslo, color='blue', alpha=0.6)\n",
        "plt.title('Scatterplot de Melbourne y Oslo')\n",
        "plt.xlabel('Melbourne')\n",
        "plt.ylabel('Oslo')\n",
        "plt.show()"
      ],
      "metadata": {
        "colab": {
          "base_uri": "https://localhost:8080/",
          "height": 472
        },
        "id": "91-TE26i70a2",
        "outputId": "d1342c4a-c854-49a8-b2dd-809b28fd1094"
      },
      "execution_count": null,
      "outputs": [
        {
          "output_type": "display_data",
          "data": {
            "text/plain": [
              "<Figure size 640x480 with 1 Axes>"
            ],
            "image/png": "[encoded data removed]"
          },
          "metadata": {}
        }
      ]
    },
    {
      "cell_type": "markdown",
      "metadata": {
        "id": "qlRYOrgH2M-v"
      },
      "source": [
        "# Parte 2"
      ]
    },
    {
      "cell_type": "markdown",
      "metadata": {
        "id": "Sh2JKJmk2M-v"
      },
      "source": [
        "Una fuente de calor… markoviana\n",
        "\n",
        "Considerando los valores de temperatura t que componen cada señal Si, construir una nueva señal Ti  compuesta por una secuencia de símbolos discretos F, T o C, definidos según:\n",
        "\n",
        "F (frío): si t < 11°C\n",
        "\n",
        "T (templado): si 11 ≤ t < 19°C\n",
        "\n",
        "C (cálido): si t ≥ 19°C\n",
        "\n",
        "Para cada Ti:\n"
      ]
    },
    {
      "cell_type": "markdown",
      "metadata": {
        "id": "ZTtETr612M-w"
      },
      "source": [
        "## inciso 1\n",
        "Modelar la fuente con memoria de orden 1 (Markov), obtener la matriz de transición y analizar su comportamiento (por ejemplo, tratá de descubrir cosas como: En Oslo, si hace frío hoy, es casi seguro que siga así hasta julio..)"
      ]
    },
    {
      "cell_type": "code",
      "execution_count": null,
      "metadata": {
        "id": "XqcP4E5a2M-w",
        "outputId": "5fd2a066-ba46-4527-8eb8-c94829d18da3",
        "colab": {
          "base_uri": "https://localhost:8080/"
        }
      },
      "outputs": [
        {
          "output_type": "stream",
          "name": "stdout",
          "text": [
            "Matriz de transición con probabilidades de Quito:\n",
            "        F       T    C\n",
            "F  0.0541  0.0060  0.0\n",
            "T  0.9459  0.9933  1.0\n",
            "C  0.0000  0.0007  0.0\n"
          ]
        }
      ],
      "source": [
        "def asignar_estado(valor):\n",
        "    if valor<11:\n",
        "        return 0\n",
        "    elif valor <19:\n",
        "        return 1\n",
        "    else:\n",
        "        return 2\n",
        "\n",
        "def calcular_probabilidades_transicion(serie_estados, num_estados):\n",
        "    conteo = np.zeros((num_estados, num_estados), dtype=int)\n",
        "\n",
        "    for actual, siguiente in zip(serie_estados[:-1], serie_estados[1:]):\n",
        "        conteo[siguiente, actual] += 1\n",
        "\n",
        "    with np.errstate(divide='ignore', invalid='ignore'):\n",
        "        probabilidades = conteo / conteo.sum(axis=0, keepdims=True)\n",
        "        probabilidades = np.nan_to_num(probabilidades, nan=0.0)\n",
        "\n",
        "    return probabilidades\n",
        "\n",
        "serie_quito_estados=serie_quito.apply(asignar_estado)\n",
        "matriz_transicion_quito = calcular_probabilidades_transicion(serie_quito_estados, 3)\n",
        "\n",
        "etiquetas = ['F', 'T', 'C']\n",
        "df_matriz_transicion_quito = pd.DataFrame(matriz_transicion_quito, index=etiquetas, columns=etiquetas)\n",
        "print(\"Matriz de transición con probabilidades de Quito:\")\n",
        "print(df_matriz_transicion_quito.round(4))"
      ]
    },
    {
      "cell_type": "code",
      "execution_count": null,
      "metadata": {
        "id": "X46i59ki2M-w",
        "outputId": "5d7f051c-3638-4768-d056-e39c4c781ec6",
        "colab": {
          "base_uri": "https://localhost:8080/"
        }
      },
      "outputs": [
        {
          "output_type": "stream",
          "name": "stdout",
          "text": [
            "Matriz de transición con probabilidades de Melbourne:\n",
            "        F       T       C\n",
            "F  0.4863  0.0316  0.0000\n",
            "T  0.5137  0.8359  0.1467\n",
            "C  0.0000  0.1325  0.8533\n"
          ]
        }
      ],
      "source": [
        "serie_melbourne_estados=serie_melbourne.apply(asignar_estado)\n",
        "matriz_transicion_melbourne = calcular_probabilidades_transicion(serie_melbourne_estados, 3)\n",
        "\n",
        "df_matriz_transicion_melbourne = pd.DataFrame(matriz_transicion_melbourne, index=etiquetas, columns=etiquetas)\n",
        "print(\"Matriz de transición con probabilidades de Melbourne:\")\n",
        "print(df_matriz_transicion_melbourne.round(4))"
      ]
    },
    {
      "cell_type": "code",
      "execution_count": null,
      "metadata": {
        "id": "6w1sfJf52M-w",
        "outputId": "3bcaee93-4233-4266-a4ea-c80bfdc74ccf",
        "colab": {
          "base_uri": "https://localhost:8080/"
        }
      },
      "outputs": [
        {
          "output_type": "stream",
          "name": "stdout",
          "text": [
            "Matriz de transición con probabilidades de Oslo:\n",
            "        F       T       C\n",
            "F  0.9593  0.0994  0.0000\n",
            "T  0.0407  0.8652  0.2959\n",
            "C  0.0000  0.0354  0.7041\n"
          ]
        }
      ],
      "source": [
        "serie_oslo_estados=serie_oslo.apply(asignar_estado)\n",
        "matriz_transicion_oslo = calcular_probabilidades_transicion(serie_oslo_estados, 3)\n",
        "\n",
        "df_matriz_transicion_oslo = pd.DataFrame(matriz_transicion_oslo, index=etiquetas, columns=etiquetas)\n",
        "print(\"Matriz de transición con probabilidades de Oslo:\")\n",
        "print(df_matriz_transicion_oslo.round(4))"
      ]
    },
    {
      "cell_type": "markdown",
      "metadata": {
        "id": "NPsrKCqr2M-w"
      },
      "source": [
        "## inciso 2.1\n",
        "Usar muestreo Monte Carlo para obtener, para cada símbolo:\n",
        "\n",
        "La probabilidad estacionaria (esa a la que llegás después de mucho simular)."
      ]
    },
    {
      "cell_type": "code",
      "execution_count": null,
      "metadata": {
        "id": "-s4m3xkv2M-w",
        "outputId": "77a2ba12-91ea-4bbc-b961-a305875db5ef",
        "colab": {
          "base_uri": "https://localhost:8080/",
          "height": 1000
        }
      },
      "outputs": [
        {
          "output_type": "stream",
          "name": "stdout",
          "text": [
            "convergencia para vector estacionario Quito\n"
          ]
        },
        {
          "output_type": "display_data",
          "data": {
            "text/plain": [
              "<Figure size 1000x600 with 1 Axes>"
            ],
            "image/png": "[encoded data removed]"
          },
          "metadata": {}
        },
        {
          "output_type": "stream",
          "name": "stdout",
          "text": [
            "vector estacionario Quito: [0.0072 0.9908 0.002 ]\n",
            "convergencia para vector estacionario Melbourne\n"
          ]
        },
        {
          "output_type": "display_data",
          "data": {
            "text/plain": [
              "<Figure size 1000x600 with 1 Axes>"
            ],
            "image/png": "[encoded data removed]"
          },
          "metadata": {}
        },
        {
          "output_type": "stream",
          "name": "stdout",
          "text": [
            "vector estacionario Melbourne: [0.03697042 0.52977618 0.4332534 ]\n",
            "convergencia para vector estacionario Oslo\n"
          ]
        },
        {
          "output_type": "display_data",
          "data": {
            "text/plain": [
              "<Figure size 1000x600 with 1 Axes>"
            ],
            "image/png": "[encoded data removed]"
          },
          "metadata": {}
        },
        {
          "output_type": "stream",
          "name": "stdout",
          "text": [
            "vector estacionario Oslo: [0.7126 0.247  0.0404]\n"
          ]
        }
      ],
      "source": [
        "def sig_dado_ant(matriz_acumulada,s_ant):\n",
        "    r = np.random.rand()\n",
        "    for i in range(3):\n",
        "        if r < matriz_acumulada[i,s_ant]:\n",
        "            return i\n",
        "\n",
        "def converge_arr(vt, vt_ant,e):\n",
        "    for i in range(len(vt)):\n",
        "        if abs(vt[i]-vt_ant[i])>e:\n",
        "            return False\n",
        "    return True\n",
        "\n",
        "def calcular_vector_estacionario(matriz_acumulada, e=0.0001, min_iteraciones=5000):\n",
        "    emisiones = np.array([0, 0, 0])\n",
        "    vt = np.array([0, 0, 0])\n",
        "    vt_ant = np.array([0, 0, 0])\n",
        "    mensajes = 0\n",
        "    s_actual = 0\n",
        "    historial = []\n",
        "    while not converge_arr(vt, vt_ant,e) or (mensajes < min_iteraciones):\n",
        "        s_actual = sig_dado_ant(matriz_acumulada,s_actual)\n",
        "        emisiones[s_actual] += 1\n",
        "        mensajes += 1\n",
        "        vt_ant = vt.copy()\n",
        "        vt = emisiones/mensajes\n",
        "        historial.append(vt.copy())\n",
        "    historial = np.array(historial)\n",
        "    plt.figure(figsize=(10, 6))\n",
        "    plt.plot(historial[:, 0], label='Frio', color='skyblue')\n",
        "    plt.plot(historial[:, 1], label='Templado', color='green')\n",
        "    plt.plot(historial[:, 2], label='Calido', color='red')\n",
        "    plt.title('Convergencia del vector estacionario')\n",
        "    plt.xlabel('Iteraciones')\n",
        "    plt.ylabel('Probabilidad estimada')\n",
        "    plt.legend()\n",
        "    plt.grid(True)\n",
        "    plt.show()\n",
        "    return vt\n",
        "\n",
        "\n",
        "matriz_acum_quito = np.cumsum(matriz_transicion_quito, axis=0)\n",
        "matriz_acum_melbourne = np.cumsum(matriz_transicion_melbourne, axis=0)\n",
        "matriz_acum_oslo = np.cumsum(matriz_transicion_oslo, axis=0)\n",
        "\n",
        "print('convergencia para vector estacionario Quito')\n",
        "vector_estacionario_quito = calcular_vector_estacionario(matriz_acum_quito)\n",
        "print(f\"vector estacionario Quito: {vector_estacionario_quito}\")\n",
        "print('convergencia para vector estacionario Melbourne')\n",
        "vector_estacionario_melbourne = calcular_vector_estacionario(matriz_acum_melbourne)\n",
        "print(f\"vector estacionario Melbourne: {vector_estacionario_melbourne}\")\n",
        "print('convergencia para vector estacionario Oslo')\n",
        "vector_estacionario_oslo = calcular_vector_estacionario(matriz_acum_oslo)\n",
        "print(f\"vector estacionario Oslo: {vector_estacionario_oslo}\")"
      ]
    },
    {
      "cell_type": "markdown",
      "metadata": {
        "id": "bpa5WKKW2M-x"
      },
      "source": [
        "## inciso 2.2\n",
        "El tiempo medio de 1° recurrencia (ese que te dice, en promedio, cuánto tarda un símbolo en volver a aparecer después de haberse emitido)."
      ]
    },
    {
      "cell_type": "code",
      "execution_count": null,
      "metadata": {
        "id": "392WOlKW2M-x",
        "outputId": "13153ca7-2151-4a30-b331-204a0a338db9",
        "colab": {
          "base_uri": "https://localhost:8080/"
        }
      },
      "outputs": [
        {
          "output_type": "stream",
          "name": "stdout",
          "text": [
            "media primera recurrencia en Quito para Frio\n",
            "160.0189\n",
            "media primera recurrencia en Quito para Templado\n",
            "1.0068\n",
            "media primera recurrencia en Quito para Calor\n",
            "1457.4439\n",
            "media primera recurrencia en Melbourne para Frio\n",
            "33.8886\n",
            "media primera recurrencia en Melbourne para Templado\n",
            "1.9726\n",
            "media primera recurrencia en Melbourne para Calor\n",
            "2.0908\n",
            "media primera recurrencia en Oslo para Frio\n",
            "1.5982\n",
            "media primera recurrencia en Oslo para Templado\n",
            "3.5362\n",
            "media primera recurrencia en Oslo para Calor\n",
            "30.1074\n"
          ]
        }
      ],
      "source": [
        "def converge(media, media_ant, e):\n",
        "    if abs(media - media_ant)>e:\n",
        "        return False\n",
        "    return True\n",
        "\n",
        "def media_primera_recurrencia(matriz_acumulada,simbolo,e=0.0001, min_iteraciones=5000):\n",
        "    retornos= 0\n",
        "    media=0\n",
        "    media_ant=0\n",
        "    t_actual=0\n",
        "    s_actual=simbolo\n",
        "    while  not converge(media, media_ant,e) or (t_actual< min_iteraciones):\n",
        "        s_actual=sig_dado_ant(matriz_acumulada,s_actual)\n",
        "        t_actual+=1\n",
        "        if s_actual==simbolo:\n",
        "            retornos+=1\n",
        "            media_ant=media\n",
        "            media=t_actual/retornos\n",
        "    return media\n",
        "\n",
        "print('media primera recurrencia en Quito para Frio')\n",
        "print(f\"{media_primera_recurrencia(matriz_acum_quito,0):.4f}\")\n",
        "print('media primera recurrencia en Quito para Templado')\n",
        "print(f\"{media_primera_recurrencia(matriz_acum_quito,1):.4f}\")\n",
        "print('media primera recurrencia en Quito para Calor')\n",
        "print(f\"{media_primera_recurrencia(matriz_acum_quito,2):.4f}\")\n",
        "print('media primera recurrencia en Melbourne para Frio')\n",
        "print(f\"{media_primera_recurrencia(matriz_acum_melbourne,0):.4f}\")\n",
        "print('media primera recurrencia en Melbourne para Templado')\n",
        "print(f\"{media_primera_recurrencia(matriz_acum_melbourne,1):.4f}\")\n",
        "print('media primera recurrencia en Melbourne para Calor')\n",
        "print(f\"{media_primera_recurrencia(matriz_acum_melbourne,2):.4f}\")\n",
        "print('media primera recurrencia en Oslo para Frio')\n",
        "print(f\"{media_primera_recurrencia(matriz_acum_oslo,0):.4f}\")\n",
        "print('media primera recurrencia en Oslo para Templado')\n",
        "print(f\"{media_primera_recurrencia(matriz_acum_oslo,1):.4f}\")\n",
        "print('media primera recurrencia en Oslo para Calor')\n",
        "print(f\"{media_primera_recurrencia(matriz_acum_oslo,2):.4f}\")\n"
      ]
    },
    {
      "cell_type": "markdown",
      "metadata": {
        "id": "vheLCqSF2M-x"
      },
      "source": [
        "# Parte 3"
      ]
    },
    {
      "cell_type": "markdown",
      "metadata": {
        "id": "L1WQ7tAH2M-x"
      },
      "source": [
        "## inciso 1\n",
        "Entropía, Huffman y la batalla por los bits\n",
        "\n",
        "Calcular la entropía de cada fuente Ti :\n",
        "\n",
        "Sin memoria (orden 0), considerando símbolos individuales.\n",
        "\n",
        "Con memoria (orden 1), usando información sobre transiciones entre símbolos.\n",
        "\n",
        "Interpretar los resultados: ¿Qué ciudad presenta menor entropía? ¿Cuál más? ¿Esto hace que alguna ciudad sea más impredecible que otra? (Spoiler: tal vez no sea la que imaginas).\n"
      ]
    },
    {
      "cell_type": "code",
      "execution_count": null,
      "metadata": {
        "id": "u6x8iktM2M-x",
        "outputId": "8ed934fe-43fe-4ca3-e12a-18850d658b63",
        "colab": {
          "base_uri": "https://localhost:8080/"
        }
      },
      "outputs": [
        {
          "output_type": "stream",
          "name": "stdout",
          "text": [
            "Entropia sin memoria Quito\n",
            "0.0824\n",
            "Entropia con memoria Quito\n",
            "0.0630\n",
            "Entropia sin memoria Melbourne\n",
            "1.1843\n",
            "Entropia con memoria Melbourne\n",
            "0.0630\n",
            "Entropia sin memoria Oslo\n",
            "1.0337\n",
            "Entropia con memoria Oslo\n",
            "0.3788\n"
          ]
        }
      ],
      "source": [
        "def entropia_sin_memoria(vector_estacionario):\n",
        "    resultado = 0\n",
        "    for i in range(len(vector_estacionario)):\n",
        "        if vector_estacionario[i] > 0:\n",
        "            resultado += vector_estacionario[i] * math.log(vector_estacionario[i], 2)\n",
        "    return -resultado\n",
        "\n",
        "def calcular_hi(matriz_transicion):\n",
        "    filas = len(matriz_transicion)\n",
        "    columnas = len(matriz_transicion[0])\n",
        "    resultado = [0] * columnas\n",
        "    for j in range(columnas):\n",
        "        for i in range(filas):\n",
        "            if matriz_transicion[i][j] > 0:\n",
        "                resultado[j] += matriz_transicion[i][j] * math.log(matriz_transicion[i][j], 2)\n",
        "        resultado[j] = -resultado[j]\n",
        "    return resultado\n",
        "\n",
        "def entropia_con_memoria(vector_estacionario, hi):\n",
        "    resultado = 0\n",
        "    for i in range(len(vector_estacionario)):\n",
        "        resultado += vector_estacionario[i] * hi[i]\n",
        "    return resultado\n",
        "\n",
        "entropia_sin_memoria_quito = entropia_sin_memoria(vector_estacionario_quito)\n",
        "entropia_sin_memoria_melbourne = entropia_sin_memoria(vector_estacionario_melbourne)\n",
        "entropia_sin_memoria_oslo = entropia_sin_memoria(vector_estacionario_oslo)\n",
        "\n",
        "hi_quito = calcular_hi(matriz_transicion_quito)\n",
        "hi_melbourne = calcular_hi(matriz_transicion_melbourne)\n",
        "hi_oslo = calcular_hi(matriz_transicion_oslo)\n",
        "\n",
        "entropia_con_memoria_quito = entropia_con_memoria(vector_estacionario_quito, hi_quito)\n",
        "entropia_con_memoria_melbourne = entropia_con_memoria(vector_estacionario_melbourne, hi_melbourne)\n",
        "entropia_con_memoria_oslo = entropia_con_memoria(vector_estacionario_oslo, hi_oslo)\n",
        "\n",
        "print('Entropia sin memoria Quito')\n",
        "print(f\"{entropia_sin_memoria_quito:.4f}\")\n",
        "print('Entropia con memoria Quito')\n",
        "print(f\"{entropia_con_memoria_quito:.4f}\")\n",
        "print('Entropia sin memoria Melbourne')\n",
        "print(f\"{entropia_sin_memoria_melbourne:.4f}\")\n",
        "print('Entropia con memoria Melbourne')\n",
        "print(f\"{entropia_con_memoria_quito:.4f}\")\n",
        "print('Entropia sin memoria Oslo')\n",
        "print(f\"{entropia_sin_memoria_oslo:.4f}\")\n",
        "print('Entropia con memoria Oslo')\n",
        "print(f\"{entropia_con_memoria_oslo:.4f}\")"
      ]
    },
    {
      "cell_type": "markdown",
      "metadata": {
        "id": "u1aWENcl2M-x"
      },
      "source": [
        "## inciso 2\n",
        "Implementar el algoritmo de Huffman para codificar cada señal Ti  y su extensión a orden 2, teniendo en cuenta que la fuente es markoviana. Aplicar el Teorema de Shannon y analizar resultados (Shannon se revuelca en su tumba? o aplaude desde el más allá?)"
      ]
    },
    {
      "cell_type": "code",
      "execution_count": null,
      "metadata": {
        "id": "bcXVIeRJ2M-x"
      },
      "outputs": [],
      "source": [
        "def matriz_a_diccionario(matriz, claves):\n",
        "    diccionario = {}\n",
        "    for i, fila in enumerate(matriz):\n",
        "        diccionario[claves[i]] = {}\n",
        "        for j, valor in enumerate(fila):\n",
        "            diccionario[claves[i]][claves[j]] = valor\n",
        "    return diccionario\n",
        "\n",
        "def array_a_diccionario(array, claves):\n",
        "    return {claves[i]: array[i] for i in range(len(claves))}\n",
        "\n",
        "claves = ['F', 'T', 'C']\n",
        "\n",
        "vector_estacionario_diccionario_quito = array_a_diccionario(vector_estacionario_quito,claves)\n",
        "vector_estacionario_diccionario_melbourne = array_a_diccionario(vector_estacionario_melbourne,claves)\n",
        "vector_estacionario_diccionario_oslo = array_a_diccionario(vector_estacionario_oslo,claves)\n",
        "\n",
        "matriz_diccionario_quito = matriz_a_diccionario(matriz_transicion_quito,claves)\n",
        "matriz_diccionario_melbourne = matriz_a_diccionario(matriz_transicion_melbourne,claves)\n",
        "matriz_diccionario_oslo = matriz_a_diccionario(matriz_transicion_oslo,claves)"
      ]
    },
    {
      "cell_type": "code",
      "execution_count": null,
      "metadata": {
        "id": "kTQ_ST3I2M-x",
        "outputId": "d5d32936-6c79-4972-951d-34119de48125",
        "colab": {
          "base_uri": "https://localhost:8080/"
        }
      },
      "outputs": [
        {
          "output_type": "stream",
          "name": "stdout",
          "text": [
            "Códigos Huffman Quito:\n",
            "F: 01\n",
            "T: 1\n",
            "C: 00\n",
            "Códigos Huffman Melbourne:\n",
            "F: 00\n",
            "T: 1\n",
            "C: 01\n",
            "Códigos Huffman Oslo:\n",
            "F: 1\n",
            "T: 01\n",
            "C: 00\n"
          ]
        }
      ],
      "source": [
        "class NodoHuffman:\n",
        "    def __init__(self, simbolo, probabilidad, izq=None, der=None):\n",
        "        self.simbolo = simbolo\n",
        "        self.probabilidad = probabilidad\n",
        "        self.izq = izq\n",
        "        self.der = der\n",
        "\n",
        "    def __lt__(self, otro):\n",
        "        return self.probabilidad < otro.probabilidad\n",
        "\n",
        "def generar_codigos_huffman(probabilidades):\n",
        "    heap = []\n",
        "\n",
        "    for simbolo, prob in probabilidades.items():\n",
        "        heapq.heappush(heap, NodoHuffman(simbolo, prob))\n",
        "\n",
        "    while len(heap) > 1:\n",
        "        nodo1 = heapq.heappop(heap)\n",
        "        nodo2 = heapq.heappop(heap)\n",
        "        nodo_interno = NodoHuffman(None, nodo1.probabilidad + nodo2.probabilidad, nodo1, nodo2)\n",
        "        heapq.heappush(heap, nodo_interno)\n",
        "\n",
        "    def recorrer_arbol(nodo, codigo_actual, codigos):\n",
        "        if nodo is None:\n",
        "            return\n",
        "        if nodo.simbolo is not None:\n",
        "            codigos[nodo.simbolo] = codigo_actual\n",
        "        recorrer_arbol(nodo.izq, codigo_actual + '0', codigos)\n",
        "        recorrer_arbol(nodo.der, codigo_actual + '1', codigos)\n",
        "\n",
        "    raiz = heap[0]\n",
        "    codigos = {}\n",
        "    recorrer_arbol(raiz, \"\", codigos)\n",
        "    return codigos\n",
        "\n",
        "codigos_quito = generar_codigos_huffman(vector_estacionario_diccionario_quito)\n",
        "print(\"Códigos Huffman Quito:\")\n",
        "for simbolo in vector_estacionario_diccionario_quito.keys():\n",
        "    print(f\"{simbolo}: {codigos_quito[simbolo]}\")\n",
        "\n",
        "codigos_melbourne = generar_codigos_huffman(vector_estacionario_diccionario_melbourne)\n",
        "print(\"Códigos Huffman Melbourne:\")\n",
        "for simbolo in vector_estacionario_diccionario_melbourne.keys():\n",
        "    print(f\"{simbolo}: {codigos_melbourne[simbolo]}\")\n",
        "\n",
        "codigos_oslo = generar_codigos_huffman(vector_estacionario_diccionario_oslo)\n",
        "print(\"Códigos Huffman Oslo:\")\n",
        "for simbolo in vector_estacionario_diccionario_oslo.keys():\n",
        "    print(f\"{simbolo}: {codigos_oslo[simbolo]}\")"
      ]
    },
    {
      "cell_type": "markdown",
      "metadata": {
        "id": "L5R_IqT82M-x"
      },
      "source": [
        "Huffman orden 2"
      ]
    },
    {
      "cell_type": "code",
      "execution_count": null,
      "metadata": {
        "id": "1tDAo6Zz2M-x",
        "outputId": "ef9a629f-0336-46bb-cee5-c16545b74c85",
        "colab": {
          "base_uri": "https://localhost:8080/"
        }
      },
      "outputs": [
        {
          "output_type": "stream",
          "name": "stdout",
          "text": [
            "Códigos Huffman Quito orden 2:\n",
            "FT: 00\n",
            "CC: 0100000\n",
            "FC: 01000010\n",
            "CF: 01000011\n",
            "FF: 010001\n",
            "TC: 01001\n",
            "CT: 0101\n",
            "TF: 011\n",
            "TT: 1\n"
          ]
        }
      ],
      "source": [
        "def extenderOrdenDos(probabilidades, matrix):\n",
        "    probOrdenDos = {}\n",
        "    for s1 in probabilidades:\n",
        "        for s2 in matrix[s1]:\n",
        "            combinacion = s1+s2\n",
        "            prob = probabilidades[s1]*matrix[s2][s1]\n",
        "            probOrdenDos[combinacion] = prob\n",
        "    return probOrdenDos\n",
        "\n",
        "prob_quito_orden_dos = extenderOrdenDos(vector_estacionario_diccionario_quito,matriz_diccionario_quito)\n",
        "codigos_quito_orden_dos = generar_codigos_huffman(prob_quito_orden_dos)\n",
        "\n",
        "print(\"Códigos Huffman Quito orden 2:\")\n",
        "for simbolo in codigos_quito_orden_dos.keys():\n",
        "    print(f\"{simbolo}: {codigos_quito_orden_dos[simbolo]}\")"
      ]
    },
    {
      "cell_type": "code",
      "execution_count": null,
      "metadata": {
        "id": "O7BwwB8n2M-x",
        "outputId": "1362c4a6-a88b-4354-be40-524855bd8f12",
        "colab": {
          "base_uri": "https://localhost:8080/"
        }
      },
      "outputs": [
        {
          "output_type": "stream",
          "name": "stdout",
          "text": [
            "Códigos Huffman Melbourne orden 2:\n",
            "TT: 0\n",
            "TC: 100\n",
            "FT: 10100\n",
            "FC: 10101000\n",
            "CF: 10101001\n",
            "TF: 1010101\n",
            "FF: 101011\n",
            "CT: 1011\n",
            "CC: 11\n"
          ]
        }
      ],
      "source": [
        "prob_melbourne_orden_dos = extenderOrdenDos(vector_estacionario_diccionario_melbourne,matriz_diccionario_melbourne)\n",
        "codigos_melbourne_orden_dos = generar_codigos_huffman(prob_melbourne_orden_dos)\n",
        "\n",
        "print(\"Códigos Huffman Melbourne orden 2:\")\n",
        "for simbolo in codigos_melbourne_orden_dos.keys():\n",
        "    print(f\"{simbolo}: {codigos_melbourne_orden_dos[simbolo]}\")"
      ]
    },
    {
      "cell_type": "code",
      "execution_count": null,
      "metadata": {
        "id": "gYO823G_2M-x",
        "outputId": "9fbf60ef-4ba0-44a9-c050-fb335bc8f814",
        "colab": {
          "base_uri": "https://localhost:8080/"
        }
      },
      "outputs": [
        {
          "output_type": "stream",
          "name": "stdout",
          "text": [
            "Códigos Huffman Oslo orden 2:\n",
            "FC: 0000000\n",
            "CF: 0000001\n",
            "TC: 000001\n",
            "CT: 00001\n",
            "TF: 0001\n",
            "CC: 0010\n",
            "FT: 0011\n",
            "TT: 01\n",
            "FF: 1\n"
          ]
        }
      ],
      "source": [
        "prob_oslo_orden_dos = extenderOrdenDos(vector_estacionario_diccionario_oslo,matriz_diccionario_oslo)\n",
        "codigos_oslo_orden_dos = generar_codigos_huffman(prob_oslo_orden_dos)\n",
        "\n",
        "print(\"Códigos Huffman Oslo orden 2:\")\n",
        "for simbolo in codigos_oslo_orden_dos.keys():\n",
        "    print(f\"{simbolo}: {codigos_oslo_orden_dos[simbolo]}\")"
      ]
    },
    {
      "cell_type": "code",
      "execution_count": null,
      "metadata": {
        "id": "WhEypUY32M-y"
      },
      "outputs": [],
      "source": [
        "def calcular_longitud_media(probabilidades, codigos):\n",
        "    res = 0\n",
        "    for simbolo in codigos:\n",
        "        res += len(codigos[simbolo]) * probabilidades[simbolo]\n",
        "    return res\n",
        "\n",
        "long_media_quito = calcular_longitud_media(vector_estacionario_diccionario_quito, codigos_quito)\n",
        "long_media_quito_orden_dos = calcular_longitud_media(prob_quito_orden_dos, codigos_quito_orden_dos)\n",
        "\n",
        "long_media_melbourne = calcular_longitud_media(vector_estacionario_diccionario_melbourne, codigos_melbourne)\n",
        "long_media_melbourne_orden_dos = calcular_longitud_media(prob_melbourne_orden_dos, codigos_melbourne_orden_dos)\n",
        "\n",
        "long_media_oslo = calcular_longitud_media(vector_estacionario_diccionario_oslo, codigos_oslo)\n",
        "long_media_oslo_orden_dos = calcular_longitud_media(prob_oslo_orden_dos, codigos_oslo_orden_dos)\n"
      ]
    },
    {
      "cell_type": "code",
      "execution_count": null,
      "metadata": {
        "id": "sZ36zqZ62M-y",
        "outputId": "3e2cfbb3-beb2-456c-a79b-2db5781d13f7",
        "colab": {
          "base_uri": "https://localhost:8080/"
        }
      },
      "outputs": [
        {
          "output_type": "stream",
          "name": "stdout",
          "text": [
            "verificacion de Shannon para Quito sin memoria\n",
            "Entropía H = 0.0824\n",
            "Longitud media L = 1.0092\n",
            "Desigualdad esperada: 0.0824 ≤ 1.0092 < 1.0824\n",
            "Cumple con la desigualdad de Shannon.\n",
            "---------------------------------------------------------------------\n",
            "verificacion de Shannon para Melbourne sin memoria\n",
            "Entropía H = 1.1843\n",
            "Longitud media L = 1.4702\n",
            "Desigualdad esperada: 1.1843 ≤ 1.4702 < 2.1843\n",
            "Cumple con la desigualdad de Shannon.\n",
            "---------------------------------------------------------------------\n",
            "verificacion de Shannon para Oslo sin memoria\n",
            "Entropía H = 1.0337\n",
            "Longitud media L = 1.2874\n",
            "Desigualdad esperada: 1.0337 ≤ 1.2874 < 2.0337\n",
            "Cumple con la desigualdad de Shannon.\n"
          ]
        }
      ],
      "source": [
        "def verificar_shannon_sin_memoria(entropia, longitud_media):\n",
        "    print(f\"Entropía H = {entropia:.4f}\")\n",
        "    print(f\"Longitud media L = {longitud_media:.4f}\")\n",
        "    print(f\"Desigualdad esperada: {entropia:.4f} ≤ {longitud_media:.4f} < {entropia + 1:.4f}\")\n",
        "\n",
        "    if entropia <= longitud_media < entropia + 1:\n",
        "        print(\"Cumple con la desigualdad de Shannon.\")\n",
        "    else:\n",
        "        print(\"No cumple con la desigualdad de Shannon.\")\n",
        "\n",
        "print('verificacion de Shannon para Quito sin memoria')\n",
        "verificar_shannon_sin_memoria(entropia_sin_memoria_quito, long_media_quito)\n",
        "print(\"---------------------------------------------------------------------\")\n",
        "print('verificacion de Shannon para Melbourne sin memoria')\n",
        "verificar_shannon_sin_memoria(entropia_sin_memoria_melbourne, long_media_melbourne)\n",
        "print(\"---------------------------------------------------------------------\")\n",
        "print('verificacion de Shannon para Oslo sin memoria')\n",
        "verificar_shannon_sin_memoria(entropia_sin_memoria_oslo, long_media_oslo)"
      ]
    },
    {
      "cell_type": "code",
      "execution_count": null,
      "metadata": {
        "id": "LmDY3G222M-y",
        "outputId": "92148a66-047c-4eb6-b6e5-85b9acd4d054",
        "colab": {
          "base_uri": "https://localhost:8080/"
        }
      },
      "outputs": [
        {
          "output_type": "stream",
          "name": "stdout",
          "text": [
            "verificacion de Shannon para Quito con memoria\n",
            "Entropía Hn = 0.1454\n",
            "Longitud media L = 1.0294\n",
            "Desigualdad esperada: 0.1454 ≤ 1.0294 < 1.1454\n",
            "Cumple con la desigualdad de Shannon.\n",
            "---------------------------------------------------------------------\n",
            "verificacion de Shannon para Melbourne con memoria\n",
            "Entropía Hn = 1.8844\n",
            "Longitud media L = 1.9671\n",
            "Desigualdad esperada: 1.8844 ≤ 1.9671 < 2.8844\n",
            "Cumple con la desigualdad de Shannon.\n",
            "---------------------------------------------------------------------\n",
            "verificacion de Shannon para Oslo sin memoria\n",
            "Entropía Hn = 1.4125\n",
            "Longitud media L = 1.5512\n",
            "Desigualdad esperada: 1.4125 ≤ 1.5512 < 2.4125\n",
            "Cumple con la desigualdad de Shannon.\n"
          ]
        }
      ],
      "source": [
        "def verificar_shannon_con_memoria(entropia, entropia_condicional,longitud_media, n):\n",
        "    Hn = entropia + (n - 1) * entropia_condicional\n",
        "    print(f\"Entropía Hn = {Hn:.4f}\")\n",
        "    print(f\"Longitud media L = {longitud_media:.4f}\")\n",
        "    print(f\"Desigualdad esperada: {Hn:.4f} ≤ {longitud_media:.4f} < {Hn + 1:.4f}\")\n",
        "\n",
        "    if Hn <= longitud_media < Hn + 1:\n",
        "        print(\"Cumple con la desigualdad de Shannon.\")\n",
        "    else:\n",
        "        print(\"No cumple con la desigualdad de Shannon.\")\n",
        "\n",
        "print('verificacion de Shannon para Quito con memoria')\n",
        "verificar_shannon_con_memoria(entropia_sin_memoria_quito, entropia_con_memoria_quito, long_media_quito_orden_dos, 2)\n",
        "print(\"---------------------------------------------------------------------\")\n",
        "print('verificacion de Shannon para Melbourne con memoria')\n",
        "verificar_shannon_con_memoria(entropia_sin_memoria_melbourne, entropia_con_memoria_melbourne, long_media_melbourne_orden_dos, 2)\n",
        "print(\"---------------------------------------------------------------------\")\n",
        "print('verificacion de Shannon para Oslo sin memoria')\n",
        "verificar_shannon_con_memoria(entropia_sin_memoria_oslo, entropia_con_memoria_oslo, long_media_oslo_orden_dos, 2)"
      ]
    },
    {
      "cell_type": "markdown",
      "metadata": {
        "id": "6uOdHgd92M-y"
      },
      "source": [
        "## inciso 3\n",
        "En cada caso, calcular la longitud total del mensaje codificado (en bits), compararla con la longitud original del archivo y obtener la tan ansiada tasa de compresión."
      ]
    },
    {
      "cell_type": "markdown",
      "metadata": {
        "id": "fFEgIiZb2M-y"
      },
      "source": [
        "### Para orden 0"
      ]
    },
    {
      "cell_type": "code",
      "execution_count": null,
      "metadata": {
        "id": "0htv2Wz-2M-y",
        "outputId": "8a2a3c65-156c-4dea-dc4c-46276cb76b8d",
        "colab": {
          "base_uri": "https://localhost:8080/"
        }
      },
      "outputs": [
        {
          "output_type": "stream",
          "name": "stdout",
          "text": [
            "datos de quito\n",
            "---------------------------------------------\n",
            "longitud original: 46752\n",
            "comprimida: 5885\n",
            "la tasa de compresion de los datos de quito es de 7.9443:1\n",
            "---------------------------------------------\n",
            "datos de melbourne\n",
            "---------------------------------------------\n",
            "longitud original: 46752\n",
            "comprimida: 8714\n",
            "la tasa de compresion de los datos de quito es de 5.3652:1\n",
            "---------------------------------------------\n",
            "datos de oslo\n",
            "---------------------------------------------\n",
            "longitud original: 46752\n",
            "comprimida: 7680\n",
            "la tasa de compresion de los datos de quito es de 6.0875:1\n",
            "---------------------------------------------\n"
          ]
        }
      ],
      "source": [
        "def tasa_de_compresion(original, comprimido):\n",
        "    return original/comprimido\n",
        "\n",
        "\n",
        "conteo_quito = serie_quito_estados.value_counts()\n",
        "conteo_oslo = serie_oslo_estados.value_counts()\n",
        "conteo_melbourne = serie_melbourne_estados.value_counts()\n",
        "\n",
        "res_quito = 0\n",
        "res_oslo = 0\n",
        "res_melbourne = 0\n",
        "for i, simbolo in zip(range(3),['F','T','C']):\n",
        "    res_quito += conteo_quito[i]*len(codigos_quito[simbolo])\n",
        "    res_oslo += conteo_oslo[i]*len(codigos_oslo[simbolo])\n",
        "    res_melbourne += conteo_melbourne[i]*len(codigos_melbourne[simbolo])\n",
        "\n",
        "long_codigo_original_quito = len(serie_quito)*8\n",
        "long_codigo_original_oslo = len(serie_oslo)*8\n",
        "long_codigo_original_melbourne = len(serie_melbourne)*8\n",
        "\n",
        "print(\"datos de quito\")\n",
        "print(\"---------------------------------------------\")\n",
        "print(f\"longitud original: {long_codigo_original_quito}\\ncomprimida: {res_quito}\")\n",
        "print(f\"la tasa de compresion de los datos de quito es de {tasa_de_compresion(long_codigo_original_quito, res_quito):.4f}:1\")\n",
        "print(\"---------------------------------------------\")\n",
        "print(\"datos de melbourne\")\n",
        "print(\"---------------------------------------------\")\n",
        "print(f\"longitud original: {long_codigo_original_melbourne}\\ncomprimida: {res_melbourne}\")\n",
        "print(f\"la tasa de compresion de los datos de quito es de {tasa_de_compresion(long_codigo_original_melbourne, res_melbourne):.4f}:1\")\n",
        "print(\"---------------------------------------------\")\n",
        "print(\"datos de oslo\")\n",
        "print(\"---------------------------------------------\")\n",
        "print(f\"longitud original: {long_codigo_original_oslo}\\ncomprimida: {res_oslo}\")\n",
        "print(f\"la tasa de compresion de los datos de quito es de {tasa_de_compresion(long_codigo_original_oslo, res_oslo):.4f}:1\")\n",
        "print(\"---------------------------------------------\")\n"
      ]
    },
    {
      "cell_type": "markdown",
      "metadata": {
        "id": "EqEdz4SQ2M-y"
      },
      "source": [
        "### Para orden 1"
      ]
    },
    {
      "cell_type": "code",
      "source": [
        "serie_quito_traducida = serie_quito_estados.replace({0: 'F', 1: 'T', 2: 'C'})\n",
        "serie_melbourne_traducida = serie_melbourne_estados.replace({0: 'F', 1: 'T', 2: 'C'})\n",
        "serie_oslo_traducida = serie_oslo_estados.replace({0: 'F', 1: 'T', 2: 'C'})\n",
        "\n",
        "def longitud_codigo_comprimido(serie, codigo):\n",
        "    res = 0\n",
        "    for i in range(0,len(serie),2):\n",
        "        simbolo = serie[i]+serie[i+1]\n",
        "        res += len(codigo[simbolo])\n",
        "    return res\n",
        "\n",
        "res_quito = longitud_codigo_comprimido(serie_quito_traducida, codigos_quito_orden_dos)\n",
        "res_melbourne = longitud_codigo_comprimido(serie_melbourne_traducida, codigos_melbourne_orden_dos)\n",
        "res_oslo = longitud_codigo_comprimido(serie_oslo_traducida, codigos_oslo_orden_dos)\n",
        "\n",
        "print(\"datos de quito\")\n",
        "print(\"---------------------------------------------\")\n",
        "print(f\"longitud original: {long_codigo_original_quito} comprimida: {res_quito}\")\n",
        "print(f\"la tasa de compresion de los datos de quito es de {tasa_de_compresion(long_codigo_original_quito, res_quito):.4f}:1\")\n",
        "print(\"---------------------------------------------\")\n",
        "print(\"datos de melbourne\")\n",
        "print(\"---------------------------------------------\")\n",
        "print(f\"longitud original: {long_codigo_original_melbourne} comprimida: {res_melbourne}\")\n",
        "print(f\"la tasa de compresion de los datos de quito es de {tasa_de_compresion(long_codigo_original_melbourne, res_melbourne):.4f}:1\")\n",
        "print(\"---------------------------------------------\")\n",
        "print(\"datos de oslo\")\n",
        "print(\"---------------------------------------------\")\n",
        "print(f\"longitud original: {long_codigo_original_oslo} comprimida: {res_oslo}\")\n",
        "print(f\"la tasa de compresion de los datos de quito es de {tasa_de_compresion(long_codigo_original_oslo, res_oslo):.4f}:1\")"
      ],
      "metadata": {
        "id": "f6pfZMSe4a9q",
        "colab": {
          "base_uri": "https://localhost:8080/"
        },
        "outputId": "9da9c7b9-08a8-475c-e77d-cc7b150a6884"
      },
      "execution_count": null,
      "outputs": [
        {
          "output_type": "stream",
          "name": "stdout",
          "text": [
            "datos de quito\n",
            "---------------------------------------------\n",
            "longitud original: 46752 comprimida: 2999\n",
            "la tasa de compresion de los datos de quito es de 15.5892:1\n",
            "---------------------------------------------\n",
            "datos de melbourne\n",
            "---------------------------------------------\n",
            "longitud original: 46752 comprimida: 5770\n",
            "la tasa de compresion de los datos de quito es de 8.1026:1\n",
            "---------------------------------------------\n",
            "datos de oslo\n",
            "---------------------------------------------\n",
            "longitud original: 46752 comprimida: 4624\n",
            "la tasa de compresion de los datos de quito es de 10.1107:1\n"
          ]
        }
      ]
    },
    {
      "cell_type": "markdown",
      "metadata": {
        "id": "BdJxoRfz2M-y"
      },
      "source": [
        "# Parte 4"
      ]
    },
    {
      "cell_type": "markdown",
      "metadata": {
        "id": "3A3YRL4O2M-7"
      },
      "source": [
        "El canal climático de Musk\n",
        "\n",
        "Ahora el satélite en órbita (SpaceHeat-42) transmite la señal S2 (de Melbourne)… pero lo que llega a la base terrestre es S4 (Melbourne “ruidoso”), misteriosamente diferente."
      ]
    },
    {
      "cell_type": "code",
      "execution_count": null,
      "metadata": {
        "id": "h6uNuY3_2M-7",
        "outputId": "57eb2fdc-fbab-4627-ed31-2e8036bd1a3e",
        "colab": {
          "base_uri": "https://localhost:8080/"
        }
      },
      "outputs": [
        {
          "output_type": "stream",
          "name": "stderr",
          "text": [
            "Downloading...\n",
            "From: https://drive.google.com/uc?id=1608uqjJspK-AQk17eFdul9vu7QiPfFkV\n",
            "To: /content/temperature_Melbourne_celsius_ruidoso.csv\n",
            "100%|██████████| 23.1k/23.1k [00:00<00:00, 44.4MB/s]\n"
          ]
        }
      ],
      "source": [
        "from os import path\n",
        "\n",
        "if not path.exists(\"temperature_Melbourne_celsius_ruidoso.csv\"):\n",
        "    file_id4 = '1608uqjJspK-AQk17eFdul9vu7QiPfFkV'\n",
        "    url4 = f'https://drive.google.com/uc?id={file_id4}'\n",
        "    gdown.download(url4, 'temperature_Melbourne_celsius_ruidoso.csv', quiet=False)"
      ]
    },
    {
      "cell_type": "code",
      "execution_count": null,
      "metadata": {
        "id": "RGgusIED2M-8"
      },
      "outputs": [],
      "source": [
        "dataset_melbourne_ruidoso = pd.read_csv('temperature_Melbourne_celsius_ruidoso.csv')\n",
        "serie_melbourne_ruidoso = dataset_melbourne_ruidoso['AvgTemperature']"
      ]
    },
    {
      "cell_type": "code",
      "execution_count": null,
      "metadata": {
        "id": "1ICQDm8Y2M-8",
        "outputId": "d2cdeb6b-1b1c-4486-80b8-44156fcd9636",
        "colab": {
          "base_uri": "https://localhost:8080/"
        }
      },
      "outputs": [
        {
          "output_type": "stream",
          "name": "stdout",
          "text": [
            "Valores de temperatura de Melbourne ruidoso\n",
            "AvgTemperature\n",
            " 35      2\n",
            " 32      6\n",
            " 31      9\n",
            " 30     29\n",
            " 29     57\n",
            " 28     94\n",
            " 27    112\n",
            " 26    139\n",
            " 25    197\n",
            " 24    260\n",
            " 23    274\n",
            " 22    303\n",
            " 21    331\n",
            " 20    366\n",
            " 19    404\n",
            " 18    449\n",
            " 17    397\n",
            " 16    409\n",
            " 15    398\n",
            " 14    354\n",
            " 13    274\n",
            " 12    233\n",
            " 11    212\n",
            " 10    167\n",
            " 9     125\n",
            " 8      98\n",
            " 7      63\n",
            " 6      45\n",
            " 5      14\n",
            " 4       5\n",
            " 3       1\n",
            "-68      2\n",
            "-69      2\n",
            "-70      3\n",
            "-72      2\n",
            "-74      3\n",
            "-75      1\n",
            "-76      3\n",
            "-77      1\n",
            "Name: count, dtype: int64\n"
          ]
        }
      ],
      "source": [
        "conteo_melbourne_ruidoso_ordenado = serie_melbourne_ruidoso.value_counts().sort_index(ascending=False)\n",
        "print('Valores de temperatura de Melbourne ruidoso')\n",
        "print(conteo_melbourne_ruidoso_ordenado)"
      ]
    },
    {
      "cell_type": "code",
      "execution_count": null,
      "metadata": {
        "id": "sWh7VIF62M-8"
      },
      "outputs": [],
      "source": [
        "media_melbourne_ruidoso = serie_melbourne_ruidoso[serie_melbourne_ruidoso >= -67].mean()\n",
        "serie_melbourne_ruidoso = serie_melbourne_ruidoso.apply(lambda x: media_melbourne_ruidoso if x < -67 else x)"
      ]
    },
    {
      "cell_type": "markdown",
      "metadata": {
        "id": "bYcznK0a2M-8"
      },
      "source": [
        "## inciso 1\n",
        "Generar T4 (de igual manera igual que se generaron las otras Ti), y construir la matriz de canal comparando T2 (entrada) y T4 (salida)."
      ]
    },
    {
      "cell_type": "code",
      "execution_count": null,
      "metadata": {
        "id": "YJeB9qse2M-8",
        "outputId": "70d0f348-a551-49ed-b01a-0fa53523be2f",
        "colab": {
          "base_uri": "https://localhost:8080/"
        }
      },
      "outputs": [
        {
          "output_type": "stream",
          "name": "stdout",
          "text": [
            "Matriz de transición con probabilidades de Melbourne para el satelite:\n",
            "        F       T       C\n",
            "F  0.3031  0.1199  0.0124\n",
            "T  0.6313  0.5735  0.3265\n",
            "C  0.0656  0.3066  0.6611\n"
          ]
        }
      ],
      "source": [
        "serie_melbourne_ruidoso_estados=serie_melbourne_ruidoso.apply(asignar_estado)\n",
        "matriz_transicion_melbourne_ruidoso = calcular_probabilidades_transicion(serie_melbourne_ruidoso_estados, 3)\n",
        "\n",
        "df_matriz_transicion_melbourne_ruidoso = pd.DataFrame(matriz_transicion_melbourne_ruidoso, index=etiquetas, columns=etiquetas)\n",
        "print(\"Matriz de transición con probabilidades de Melbourne para el satelite:\")\n",
        "print(df_matriz_transicion_melbourne_ruidoso.round(4))"
      ]
    },
    {
      "cell_type": "code",
      "execution_count": null,
      "metadata": {
        "id": "M6Uo9dxf2M-8",
        "outputId": "73592423-1a65-4459-8770-f709d70853e4",
        "colab": {
          "base_uri": "https://localhost:8080/"
        }
      },
      "outputs": [
        {
          "output_type": "stream",
          "name": "stdout",
          "text": [
            "Matriz P(x,y) del canal:\n",
            "        F       T       C\n",
            "F  0.0180  0.0707  0.0000\n",
            "T  0.0133  0.3443  0.1117\n",
            "C  0.0000  0.0939  0.3480\n"
          ]
        }
      ],
      "source": [
        "def calcular_matriz_de_canal(serie_canal_1, serie_canal_2, num_simbolos):\n",
        "    matriz = np.zeros((num_simbolos, num_simbolos), dtype=float)\n",
        "\n",
        "    for s1, s2 in zip(serie_canal_1, serie_canal_2):\n",
        "        matriz[s2][s1] += 1\n",
        "\n",
        "    total = matriz.sum()\n",
        "    if total > 0:\n",
        "        matriz /= total\n",
        "\n",
        "    matriz = np.nan_to_num(matriz, nan=0.0)\n",
        "\n",
        "    return matriz\n",
        "\n",
        "matriz_canal = calcular_matriz_de_canal(serie_melbourne_estados, serie_melbourne_ruidoso_estados,3)\n",
        "\n",
        "df_matriz_canal = pd.DataFrame(matriz_canal, index=etiquetas, columns=etiquetas)\n",
        "print(\"Matriz P(x,y) del canal:\")\n",
        "print(df_matriz_canal.round(4))"
      ]
    },
    {
      "cell_type": "code",
      "execution_count": null,
      "metadata": {
        "id": "BWfnqUy22M-8",
        "outputId": "0e5c8096-973c-48a3-f4c0-64990cee6327",
        "colab": {
          "base_uri": "https://localhost:8080/"
        }
      },
      "outputs": [
        {
          "output_type": "stream",
          "name": "stdout",
          "text": [
            "Matriz de transición del canal:\n",
            "       F       T       C\n",
            "F  0.486  0.1334  0.0000\n",
            "T  0.361  0.6499  0.2579\n",
            "C  0.000  0.1773  0.8033\n"
          ]
        }
      ],
      "source": [
        "matriz_transicion_canal = matriz_canal/vector_estacionario_melbourne\n",
        "\n",
        "df_matriz_transicion_canal = pd.DataFrame(matriz_transicion_canal, index=etiquetas, columns=etiquetas)\n",
        "print(\"Matriz de transición del canal:\")\n",
        "print(df_matriz_transicion_canal.round(4))"
      ]
    },
    {
      "cell_type": "markdown",
      "metadata": {
        "id": "Aki2-wZW2M-8"
      },
      "source": [
        "## inciso 2\n",
        "Calcula el Ruido del canal y la Información mutua. Analizar los valores obtenidos (explicar si es un buen canal o una porquería disfrazada de innovación)."
      ]
    },
    {
      "cell_type": "code",
      "execution_count": null,
      "metadata": {
        "id": "8ipfJBad2M-8",
        "outputId": "ac1d0012-12af-404e-985e-ab529ae20f16",
        "colab": {
          "base_uri": "https://localhost:8080/"
        }
      },
      "outputs": [
        {
          "output_type": "stream",
          "name": "stdout",
          "text": [
            "El ruido del canal es: 1.0970\n",
            "la informacion mutua del canal es: 0.2456\n"
          ]
        }
      ],
      "source": [
        "def calcular_r(matrix):\n",
        "    matrix = np.array(matrix)\n",
        "    ruido = {}\n",
        "\n",
        "    num_filas, num_columnas = matrix.shape\n",
        "\n",
        "    for i in range(num_columnas):\n",
        "        r_i = 0\n",
        "        for j in range(num_filas):\n",
        "            p = matrix[i][j]\n",
        "            if p > 0:\n",
        "                r_i += p * np.log2(p)\n",
        "        ruido[i] = -r_i\n",
        "\n",
        "    return ruido\n",
        "\n",
        "def calcular_ruido(r_x, prob_x):\n",
        "    ruido_total = 0\n",
        "    for i in range(len(prob_x)):\n",
        "        ruido_total += r_x[i] * prob_x[i]\n",
        "    return ruido_total\n",
        "\n",
        "r = calcular_r(matriz_transicion_canal)\n",
        "ruido_canal = calcular_ruido(r,vector_estacionario_melbourne)\n",
        "\n",
        "\n",
        "py = {}\n",
        "for i in range(len(matriz_canal)):\n",
        "  py[i] = 0\n",
        "  for j in range(len(matriz_canal[i])):\n",
        "    py[i] += matriz_canal[i][j]\n",
        "\n",
        "hy = entropia_sin_memoria(py)\n",
        "info_mutua = hy - ruido_canal\n",
        "\n",
        "print(f'El ruido del canal es: {ruido_canal:.4f}')\n",
        "print(f'la informacion mutua del canal es: {info_mutua:.4f}')"
      ]
    }
  ],
  "metadata": {
    "kernelspec": {
      "display_name": "envTpeTeoria",
      "language": "python",
      "name": "python3"
    },
    "language_info": {
      "codemirror_mode": {
        "name": "ipython",
        "version": 3
      },
      "file_extension": ".py",
      "mimetype": "text/x-python",
      "name": "python",
      "nbconvert_exporter": "python",
      "pygments_lexer": "ipython3",
      "version": "3.12.5"
    },
    "colab": {
      "provenance": [],
      "toc_visible": true
    }
  },
  "nbformat": 4,
  "nbformat_minor": 0
}